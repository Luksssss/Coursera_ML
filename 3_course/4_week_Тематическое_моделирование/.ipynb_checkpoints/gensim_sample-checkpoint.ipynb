{
 "cells": [
  {
   "cell_type": "markdown",
   "metadata": {},
   "source": [
    "**conda install --name py27 gensim**"
   ]
  },
  {
   "cell_type": "markdown",
   "metadata": {},
   "source": [
    "# Пример использования библиотеки gensim для тематического моделирования"
   ]
  },
  {
   "cell_type": "markdown",
   "metadata": {},
   "source": [
    "Такая полезная теорема Байеса! :)\n",
    "\n",
    "![comic1](http://imgs.xkcd.com/comics/seashell.png)"
   ]
  },
  {
   "cell_type": "code",
   "execution_count": 1,
   "metadata": {},
   "outputs": [
    {
     "name": "stderr",
     "output_type": "stream",
     "text": [
      "/home/lukashov/anaconda3/envs/py27/lib/python2.7/site-packages/smart_open/ssh.py:34: UserWarning: paramiko missing, opening SSH/SCP/SFTP paths will be disabled.  `pip install paramiko` to suppress\n",
      "  warnings.warn('paramiko missing, opening SSH/SCP/SFTP paths will be disabled.  `pip install paramiko` to suppress')\n"
     ]
    }
   ],
   "source": [
    "# corpora - импорт данных\n",
    "# models - построение моделей\n",
    "from gensim import corpora, models"
   ]
  },
  {
   "cell_type": "code",
   "execution_count": 2,
   "metadata": {},
   "outputs": [],
   "source": [
    "# Импортируем данные в формте UCI Bag of Words\n",
    "data = corpora.UciCorpus(\"docword.xkcd.txt\", \"vocab.xkcd.txt\")\n",
    "dictionary = data.create_dictionary()"
   ]
  },
  {
   "cell_type": "code",
   "execution_count": 3,
   "metadata": {},
   "outputs": [
    {
     "name": "stdout",
     "output_type": "stream",
     "text": [
      "CPU times: user 56.3 s, sys: 865 ms, total: 57.2 s\n",
      "Wall time: 25.4 s\n"
     ]
    }
   ],
   "source": [
    "# обучение модель\n",
    "# data - корпус\n",
    "# id2word - отображение индексов слов в слова\n",
    "# distributed=True - использовать параллеьное обучение\n",
    "# num_topics - количество тем\n",
    "# passes - количество проходов по коллекции (слишком большой - долго обучаться будет)\n",
    "# alpha, eta - параметры априорного распределения Дерехле для модели\n",
    "%time ldamodel = models.ldamodel.LdaModel(data, id2word=dictionary, num_topics=5, passes=20, alpha=1.25, eta=1.25)"
   ]
  },
  {
   "cell_type": "code",
   "execution_count": 4,
   "metadata": {},
   "outputs": [],
   "source": [
    "# Сохранение модели\n",
    "ldamodel.save(\"ldamodel_xkcd\")"
   ]
  },
  {
   "cell_type": "code",
   "execution_count": 5,
   "metadata": {},
   "outputs": [],
   "source": [
    "# Загрузка модели\n",
    "ldamodel = models.ldamodel.LdaModel.load(\"ldamodel_xkcd\")"
   ]
  },
  {
   "cell_type": "code",
   "execution_count": 6,
   "metadata": {},
   "outputs": [
    {
     "name": "stdout",
     "output_type": "stream",
     "text": [
      "Topic 0 : 0.024*\"man\" + 0.013*\"text\" + 0.012*\"person\" + 0.011*\"title\" + 0.009*\"woman\" + 0.006*\"one\" + 0.005*\"just\" + 0.005*\"two\" + 0.004*\"hat\" + 0.004*\"people\"\n",
      "Topic 1 : 0.020*\"guy\" + 0.010*\"girl\" + 0.004*\"boy\" + 0.002*\"one\" + 0.001*\"part\" + 0.001*\"within\" + 0.001*\"relation\" + 0.001*\"accurate\" + 0.001*\"han\" + 0.001*\"thinking\"\n",
      "Topic 2 : 0.002*\"wait\" + 0.002*\"map\" + 0.001*\"paul\" + 0.001*\"island\" + 0.001*\"peter\" + 0.001*\"sagal\" + 0.001*\"ron\" + 0.001*\"nathan\" + 0.001*\"randall\" + 0.001*\"dont\"\n",
      "Topic 3 : 0.004*\"figure\" + 0.002*\"stick\" + 0.001*\"reference\" + 0.001*\"elaine\" + 0.001*\"bag\" + 0.001*\"narrator\" + 0.001*\"mrs\" + 0.001*\"turtle\" + 0.001*\"roberts\" + 0.001*\"hat\"\n",
      "Topic 4 : 0.002*\"exhibit\" + 0.001*\"wikipedia\" + 0.001*\"line\" + 0.001*\"labeled\" + 0.001*\"list\" + 0.001*\"text\" + 0.001*\"chart\" + 0.001*\"number\" + 0.001*\"title\" + 0.001*\"label\"\n"
     ]
    }
   ],
   "source": [
    "# выводим топы слов\n",
    "# num_topics - сколько тем ходим посмотреть\n",
    "# num_words - сколько слов вывести в каждой теме\n",
    "for t, top_words in ldamodel.print_topics(num_topics=10, num_words=10):\n",
    "    print \"Topic\", t, \":\", top_words"
   ]
  },
  {
   "cell_type": "code",
   "execution_count": 7,
   "metadata": {},
   "outputs": [
    {
     "name": "stdout",
     "output_type": "stream",
     "text": [
      "353.8295947014374\n"
     ]
    }
   ],
   "source": [
    "# Вычисляем логарифм перплексии и немного преобразуем, чтобы привести к общепринятому виду\n",
    "# чем меньше перплексия, тем лучше\n",
    "perplexity = ldamodel.log_perplexity(list(data))\n",
    "print 2**(-perplexity)"
   ]
  },
  {
   "cell_type": "code",
   "execution_count": 8,
   "metadata": {},
   "outputs": [
    {
     "data": {
      "text/plain": [
       "353.82959490281695"
      ]
     },
     "execution_count": 8,
     "metadata": {},
     "output_type": "execute_result"
    }
   ],
   "source": [
    "perp = ldamodel.bound(data)\n",
    "2**(-perp/float(87409))"
   ]
  },
  {
   "cell_type": "code",
   "execution_count": null,
   "metadata": {
    "collapsed": true
   },
   "outputs": [],
   "source": [
    "# Добавление в модель новых документов, содержащихся в новом корупсе data2\n",
    "# passes - проходы для переобучения\n",
    "ldamodel.update(data2, passes=10)"
   ]
  },
  {
   "cell_type": "code",
   "execution_count": 9,
   "metadata": {},
   "outputs": [
    {
     "data": {
      "text/plain": [
       "[(0, 0.71416813),\n",
       " (1, 0.10824957),\n",
       " (2, 0.059008792),\n",
       " (3, 0.061709292),\n",
       " (4, 0.05686421)]"
      ]
     },
     "execution_count": 9,
     "metadata": {},
     "output_type": "execute_result"
    }
   ],
   "source": [
    "# Получение распределения тем для конкретного документа\n",
    "doc = list(data)[0]\n",
    "ldamodel.get_document_topics(doc)"
   ]
  },
  {
   "cell_type": "markdown",
   "metadata": {},
   "source": [
    "Эти люди не знают про тематические модели:\n",
    "\n",
    "![comic2](http://imgs.xkcd.com/comics/the_problem_with_wikipedia.png) | ![comic3](http://imgs.xkcd.com/comics/mystery_news.png)"
   ]
  }
 ],
 "metadata": {
  "kernelspec": {
   "display_name": "Python 2",
   "language": "python",
   "name": "python2"
  },
  "language_info": {
   "codemirror_mode": {
    "name": "ipython",
    "version": 2
   },
   "file_extension": ".py",
   "mimetype": "text/x-python",
   "name": "python",
   "nbconvert_exporter": "python",
   "pygments_lexer": "ipython2",
   "version": "2.7.16"
  }
 },
 "nbformat": 4,
 "nbformat_minor": 1
}
