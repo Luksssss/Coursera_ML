{
 "cells": [
  {
   "cell_type": "markdown",
   "metadata": {},
   "source": [
    "## распределение Парето и центральная предельная теорема (ЦПТ)"
   ]
  },
  {
   "cell_type": "code",
   "execution_count": 33,
   "metadata": {},
   "outputs": [
    {
     "name": "stdout",
     "output_type": "stream",
     "text": [
      "1.5\n",
      "6.75\n"
     ]
    },
    {
     "data": {
      "text/plain": [
       "<matplotlib.legend.Legend at 0x7f4b0e93fd90>"
      ]
     },
     "execution_count": 33,
     "metadata": {},
     "output_type": "execute_result"
    },
    {
     "data": {
      "image/png": "[encoded data removed]",
      "text/plain": [
       "<Figure size 432x288 with 1 Axes>"
      ]
     },
     "metadata": {
      "needs_background": "light"
     },
     "output_type": "display_data"
    }
   ],
   "source": [
    "# https://docs.scipy.org/doc/scipy/reference/generated/scipy.stats.pareto.html\n",
    "\n",
    "import pandas as pd\n",
    "import numpy as np\n",
    "import matplotlib.pyplot as plt\n",
    "import scipy.stats as sts\n",
    "%matplotlib inline\n",
    "\n",
    "\n",
    "\n",
    "\n",
    "\n",
    "# посчитаем среднее и дисперсию\n",
    "xm=1.# минимальное значение\n",
    "b=3.# k -> это параметр b - \"коэффициент кривизны\"\n",
    "E=(xm*b)/(b-1)# среднее(мат ожидание)\n",
    "D=(E**2)*(b/(b-2))# дисперсия\n",
    "print E\n",
    "print D\n",
    "\n",
    "\n",
    "\n",
    "\n",
    "\n",
    "#генерируем выборку объема 1000\n",
    "par = sts.pareto(b)# задаем функцию\n",
    "sample = par.rvs(1000)#генерим случайную выборку 1000 значений\n",
    "x = np.linspace(1,10,1000)# список точек для построения плотности распределения\n",
    "pdf = par.pdf(x)# значения плотности распределения от выборки\n",
    "#строим гистрограмму выборки и теоретическую функцию распределения\n",
    "plt.plot(x, pdf, label='theoretical PDF')\n",
    "plt.hist(sample, bins=100, range=(1,10), normed=True)\n",
    "plt.ylabel('$f(x)$/number of samples')\n",
    "plt.xlabel('$x$')\n",
    "plt.legend(loc='best')\n",
    "\n",
    "\n",
    "\n",
    "\n",
    "\n"
   ]
  },
  {
   "cell_type": "markdown",
   "metadata": {},
   "source": [
    "### оценка выборочного среднего при разных выборках"
   ]
  },
  {
   "cell_type": "code",
   "execution_count": 40,
   "metadata": {},
   "outputs": [
    {
     "name": "stdout",
     "output_type": "stream",
     "text": [
      "[1.34706613 1.8272736  1.00933959 1.22007295 1.22162431]\n",
      "1.3250753158718123\n",
      "[1.45064145 1.23791618 1.32507532]\n"
     ]
    },
    {
     "data": {
      "text/plain": [
       "<matplotlib.legend.Legend at 0x7f4b0e270dd0>"
      ]
     },
     "execution_count": 40,
     "metadata": {},
     "output_type": "execute_result"
    },
    {
     "data": {
      "image/png": "[encoded data removed]",
      "text/plain": [
       "<Figure size 432x288 with 1 Axes>"
      ]
     },
     "metadata": {
      "needs_background": "light"
     },
     "output_type": "display_data"
    }
   ],
   "source": [
    "n=5\n",
    "sample5=np.array([]) # массив выборочных средних\n",
    "\n",
    "# генерируем 1000 выборок из 5 случайных значений\n",
    "for i in range(1, 1001):\n",
    "    ran5 = par.rvs(n) # генерация выборки\n",
    "    mean5i=sum(ran5)/n # определение выборочного среднего (в.с.)\n",
    "    sample5=np.append(sample5,mean5i)#добавляем в массив новое значение в.с.\n",
    "    \n",
    "    if i == 3:\n",
    "        print ran5\n",
    "        print mean5i\n",
    "        print sample5\n",
    "        break\n",
    "#определим параметры нормального распределения описывающие массив 1000 в.с. при n=5\n",
    "E=1.5#среднее Парето\n",
    "D=6.75#дисперсия Парето\n",
    "D5=D/n#дисперсия для нормального распределения приближающего выборку средних\n",
    "sigma5=np.sqrt(D5)# сигма для нормального распределения выборки средних (среднеквадратичное отклонение)\n",
    "norm5 = sts.norm(E, sigma5)#определяем нормальное распределение с расчетными характеристиками Парето\n",
    "pdf5 = norm5.pdf(x[:500])#получаем плотность распределения\n",
    "#строим гистограмму массива средних при n=5 и плотность описывающую этот массив нормального распределения\n",
    "plt.plot(x[:500], pdf5, label='PDF(n=5)')\n",
    "plt.hist(sample5, bins =80, range=(0,5), normed=True)\n",
    "plt.ylabel('number of samples')\n",
    "plt.xlabel('$x$')\n",
    "plt.legend(loc='best')\n",
    "\n"
   ]
  },
  {
   "cell_type": "code",
   "execution_count": null,
   "metadata": {},
   "outputs": [],
   "source": [
    "# b=5\n",
    "# # par=sts.pareto(b)\n",
    "\n",
    "\n",
    "# # sample=np.array([par.rvs(5) for I in range(1000)])\n",
    "# # 5 случайных эл-в из выборки\n",
    "# # print par.rvs(5)\n",
    "\n",
    "# fig, ax = plt.subplots(1, 1)\n",
    "# print fig\n",
    "# # b = 2.5\n",
    "# # mean, var, skew, kurt = pareto.stats(b, moments='mvsk')\n",
    "# # print mean, var, skew, kurt\n",
    "\n",
    "# x = np.linspace(pareto.ppf(0.01, b), pareto.ppf(0.99, b), 1000)\n",
    "# print pareto.ppf(0.01, b)\n",
    "# print pareto.ppf(0.99, b)\n",
    "# # print x\n",
    "# ax.plot(x, pareto.pdf(x, b), 'r-', lw=5, alpha=0.6, label='pareto pdf')\n",
    "\n",
    "\n",
    "\n",
    "\n",
    "# gaussian_numbers = np.random.randn(1000)\n",
    "# plt.hist(gaussian_numbers)\n",
    "# plt.title(\"Gaussian Histogram\")\n",
    "# plt.xlabel(\"Value\")\n",
    "# plt.ylabel(\"Frequency\")\n",
    "\n",
    "# # fig = plt.gcf()\n",
    "# # plotly_fig = tls.mpl_to_plotly( fig )\n",
    "# # py.iplot(plotly_fig, filename='mpl-basic-histogram')\n",
    "\n",
    "# # ax.hist(x, normed=True)\n",
    "# # plt.ylabel('fraction of samples')\n",
    "# # plt.xlabel('$x$')\n",
    "\n",
    "\n",
    "# # ВЫБОРКА из 5\n",
    "\n",
    "# # r = pareto.rvs(b, size=1000)\n",
    "# # ax.hist(r, density=True, histtype='stepfilled', alpha=0.2)\n",
    "# # ax.legend(loc='best', frameon=False)\n",
    "# # plt.show()\n",
    "\n",
    "\n",
    "# # plt.show()\n",
    "\n",
    "\n",
    "# # norm_rv = sts.norm(0, 1)\n",
    "# # sample = norm_rv.rvs(100)\n",
    "\n",
    "# # x = np.linspace(-4,4,100)\n",
    "# # cdf = norm_rv.cdf(x)\n",
    "# # plt.plot(x, cdf, label='theoretical CDF')\n",
    "\n",
    "# # # для построения ECDF используем библиотеку statsmodels\n",
    "# # from statsmodels.distributions.empirical_distribution import ECDF\n",
    "# # ecdf = ECDF(sample)\n",
    "# # plt.step(ecdf.x, ecdf.y, label='ECDF')\n",
    "\n",
    "# # plt.ylabel('$f(x)$')\n",
    "# # plt.xlabel('$x$')\n",
    "# # plt.legend(loc='upper left')"
   ]
  },
  {
   "cell_type": "code",
   "execution_count": 38,
   "metadata": {},
   "outputs": [
    {
     "name": "stdout",
     "output_type": "stream",
     "text": [
      "1\n",
      "2\n",
      "3\n",
      "4\n",
      "5\n",
      "6\n",
      "7\n",
      "8\n",
      "9\n"
     ]
    }
   ],
   "source": [
    "for i in range(1, 10):\n",
    "    print i"
   ]
  },
  {
   "cell_type": "code",
   "execution_count": null,
   "metadata": {},
   "outputs": [],
   "source": []
  }
 ],
 "metadata": {
  "kernelspec": {
   "display_name": "Python 2",
   "language": "python",
   "name": "python2"
  },
  "language_info": {
   "codemirror_mode": {
    "name": "ipython",
    "version": 2
   },
   "file_extension": ".py",
   "mimetype": "text/x-python",
   "name": "python",
   "nbconvert_exporter": "python",
   "pygments_lexer": "ipython2",
   "version": "2.7.16"
  }
 },
 "nbformat": 4,
 "nbformat_minor": 2
}
