{
 "cells": [
  {
   "cell_type": "markdown",
   "metadata": {},
   "source": [
    "# Построение baseline-решений"
   ]
  },
  {
   "cell_type": "markdown",
   "metadata": {},
   "source": [
    "## Описание"
   ]
  },
  {
   "cell_type": "markdown",
   "metadata": {},
   "source": [
    "В этом задании вам предстоит построить несколько моделей и оценить их качество. Эти модели будут служить нам в качестве baseline-решений и пригодятся сразу для нескольких задач:\n",
    "\n",
    "1. Во-первых, на разработку baseline-модели не должно уходить много времени (это требование исходит из оценок затрат на проект в целом - большую часть времени все же нужно потратить на основное решение), процесс должен быть простым, на подавляющем большинстве этапов должны использоваться готовые протестированные инструменты. Все это приводит к тому, что baseline-модели - это дешевый способ сделать грубую оценку потенциально возможного качества модели, при построении которого вероятность допущения ошибок относительно невелика.\n",
    "2. Во-вторых, использование моделей разного типа при построении baseline'ов позволяет на раннем этапе сделать предположения о том, какие подходы являются наиболее перспективными и приоритизировать дальнейшие эксперименты.\n",
    "3. Наличие baseline-моделей позволяет оценить, какой прирост качества дают различные преобразования, усложнения, оптимизации и прочие активности, которые вы предпринимаете для построения финального решения.\n",
    "4. Наконец, если после построение сложного решения оценка его качества будет очень сильно отличаться от оценки качества baseline-моделей, то это будет хорошим поводом поискать в решении ошибки."
   ]
  },
  {
   "cell_type": "markdown",
   "metadata": {},
   "source": [
    "## Задание"
   ]
  },
  {
   "cell_type": "markdown",
   "metadata": {},
   "source": [
    "Обучите 3 разные baseline-модели на полученных наборах данных и оцените их качество. На прошлой неделе вы выбрали методику оценки качества моделей на основе кросс-валидации, а также основную и вспомогательные метрики. Оцените с их помощью получившуюся модель. Обратите внимание, что под разными моделями понимаются именно разные алгоритмы классификации. Например, 2 модели, реализующие метод k ближайших соседей с разными k, будут считаться одним baseline-решением (хотя и с разными параметрами). Напоминаем, что отложенная выборка (hold-out dataset) не должна использоваться для построения и оценки baseline-моделей!\n",
    "\n",
    "Можно (но не обязательно) рассмотреть следующий набор алгоритмов:\n",
    "\n",
    "1. Линейная модель (например, реализация sklearn.linear_model.RidgeClassifier)\n",
    "2. Случайный лес (например, реализация sklearn.ensemble.RandomForestClassifier)\n",
    "3. Градиентный бустинг (например, реализация sklearn.ensemble.GradientBoostingClassifier)\n",
    "\n",
    "В качестве решения приложите получившийся jupyther notebook. Убедитесь, что в нем присутствуют:\n",
    "\n",
    "- все baseline-модели, которые вы построили;\n",
    "- качество всех построенных моделей оценено с помощью кросс-валидации, и это понятно из текста в jupyther notebook;\n",
    "- все модели оценены с помощью основной и дополнительных метрик качества."
   ]
  },
  {
   "cell_type": "markdown",
   "metadata": {},
   "source": [
    "Загрузим все библиотеки и сохранием для истории версии"
   ]
  },
  {
   "cell_type": "code",
   "execution_count": 1,
   "metadata": {},
   "outputs": [
    {
     "name": "stdout",
     "output_type": "stream",
     "text": [
      "Windows-10-10.0.18362-SP0\n",
      "Python:  3.7.3 (default, Mar 27 2019, 17:13:21) [MSC v.1915 64 bit (AMD64)]\n",
      "sklearn:  0.21.2\n",
      "pandas:  0.24.2\n",
      "category_encoders:  2.0.0\n",
      "matplotlib:  3.0.3\n"
     ]
    }
   ],
   "source": [
    "from platform import platform; print(platform())\n",
    "from sys import version as python_ver; print('Python: ', python_ver)\n",
    "from sklearn import __version__ as sklearn_ver; print('sklearn: ', sklearn_ver)\n",
    "\n",
    "import pandas as pd; print('pandas: ', pd.__version__)\n",
    "import category_encoders as ce; print('category_encoders: ', ce.__version__)\n",
    "\n",
    "import warnings\n",
    "\n",
    "from sklearn.model_selection import cross_validate, StratifiedKFold\n",
    "from sklearn.ensemble import RandomForestClassifier, GradientBoostingClassifier\n",
    "from sklearn.linear_model import RidgeClassifier\n",
    "from sklearn.metrics import precision_recall_curve\n",
    "\n",
    "warnings.filterwarnings('ignore')\n",
    "\n",
    "from matplotlib import __version__ as mpl_ver, pyplot as plt; print('matplotlib: ', mpl_ver)\n",
    "%matplotlib inline"
   ]
  },
  {
   "cell_type": "markdown",
   "metadata": {},
   "source": [
    "Загрузим подготовленные на предыдущем шаге данные для тренировки модели. Целевую переменную сразу приведем к виду, который затем будет использоваться в вызове функций классификаторв"
   ]
  },
  {
   "cell_type": "code",
   "execution_count": 2,
   "metadata": {},
   "outputs": [
    {
     "data": {
      "text/plain": [
       "numpy.ndarray"
      ]
     },
     "execution_count": 2,
     "metadata": {},
     "output_type": "execute_result"
    }
   ],
   "source": [
    "raw_data = pd.read_csv('data.train')\n",
    "y = pd.read_csv('labels.train').values.ravel()\n",
    "type(y)"
   ]
  },
  {
   "cell_type": "markdown",
   "metadata": {},
   "source": [
    "Отделим категориальные и числовые признаки"
   ]
  },
  {
   "cell_type": "code",
   "execution_count": 3,
   "metadata": {},
   "outputs": [],
   "source": [
    "X_cat = raw_data.select_dtypes(include='object').copy()\n",
    "X_num = raw_data.drop(columns=X_cat.columns, axis=1)"
   ]
  },
  {
   "cell_type": "code",
   "execution_count": 4,
   "metadata": {},
   "outputs": [
    {
     "name": "stdout",
     "output_type": "stream",
     "text": [
      "<class 'pandas.core.frame.DataFrame'>\n",
      "RangeIndex: 30000 entries, 0 to 29999\n",
      "Columns: 38 entries, Var191 to Var229\n",
      "dtypes: object(38)\n",
      "memory usage: 8.7+ MB\n"
     ]
    }
   ],
   "source": [
    "X_cat.info(verbose=False)"
   ]
  },
  {
   "cell_type": "code",
   "execution_count": 5,
   "metadata": {},
   "outputs": [
    {
     "name": "stdout",
     "output_type": "stream",
     "text": [
      "<class 'pandas.core.frame.DataFrame'>\n",
      "RangeIndex: 30000 entries, 0 to 29999\n",
      "Columns: 174 entries, Var1 to Var190\n",
      "dtypes: float64(173), int64(1)\n",
      "memory usage: 39.8 MB\n"
     ]
    }
   ],
   "source": [
    "X_num.info()"
   ]
  },
  {
   "cell_type": "markdown",
   "metadata": {},
   "source": [
    "На текущем этапе не будем сильно извращаться с исходными данными. Для числовых и категориальных признаков уберем отсутствующие значения "
   ]
  },
  {
   "cell_type": "code",
   "execution_count": 6,
   "metadata": {},
   "outputs": [],
   "source": [
    "X_num.fillna(0, inplace=True)\n",
    "X_cat.fillna('NA', inplace=True)"
   ]
  },
  {
   "cell_type": "markdown",
   "metadata": {},
   "source": [
    "Закодируем категориальные признаки частотным кодированием в разрезе значений целевой переменной. На этом этапе не будем вникать в разработку различных методов кодирования разных категориальных признаков. Выбранный способ, на мой взгляд, наиболее универсален с оглядкой на то, что унас есть категориальные признаки с большим количеством уникальных значений."
   ]
  },
  {
   "cell_type": "code",
   "execution_count": 7,
   "metadata": {},
   "outputs": [],
   "source": [
    "ce_Target = ce.TargetEncoder().fit(X_cat, y)\n",
    "X_cat_transformed = ce_Target.transform(X_cat, y)"
   ]
  },
  {
   "cell_type": "code",
   "execution_count": 8,
   "metadata": {},
   "outputs": [
    {
     "name": "stdout",
     "output_type": "stream",
     "text": [
      "Исходные категориальные признаки:\n"
     ]
    },
    {
     "data": {
      "text/html": [
       "<div>\n",
       "<style scoped>\n",
       "    .dataframe tbody tr th:only-of-type {\n",
       "        vertical-align: middle;\n",
       "    }\n",
       "\n",
       "    .dataframe tbody tr th {\n",
       "        vertical-align: top;\n",
       "    }\n",
       "\n",
       "    .dataframe thead th {\n",
       "        text-align: right;\n",
       "    }\n",
       "</style>\n",
       "<table border=\"1\" class=\"dataframe\">\n",
       "  <thead>\n",
       "    <tr style=\"text-align: right;\">\n",
       "      <th></th>\n",
       "      <th>Var191</th>\n",
       "      <th>Var192</th>\n",
       "      <th>Var193</th>\n",
       "      <th>Var194</th>\n",
       "      <th>Var195</th>\n",
       "      <th>Var196</th>\n",
       "      <th>Var197</th>\n",
       "      <th>Var198</th>\n",
       "      <th>Var199</th>\n",
       "      <th>Var200</th>\n",
       "      <th>...</th>\n",
       "      <th>Var220</th>\n",
       "      <th>Var221</th>\n",
       "      <th>Var222</th>\n",
       "      <th>Var223</th>\n",
       "      <th>Var224</th>\n",
       "      <th>Var225</th>\n",
       "      <th>Var226</th>\n",
       "      <th>Var227</th>\n",
       "      <th>Var228</th>\n",
       "      <th>Var229</th>\n",
       "    </tr>\n",
       "  </thead>\n",
       "  <tbody>\n",
       "    <tr>\n",
       "      <th>0</th>\n",
       "      <td>NA</td>\n",
       "      <td>DQlrEyXXnK</td>\n",
       "      <td>RO12</td>\n",
       "      <td>NA</td>\n",
       "      <td>taul</td>\n",
       "      <td>1K8T</td>\n",
       "      <td>YFAj</td>\n",
       "      <td>LKy47iP</td>\n",
       "      <td>8nstQ62E0C</td>\n",
       "      <td>NA</td>\n",
       "      <td>...</td>\n",
       "      <td>ZLrmfvd</td>\n",
       "      <td>oslk</td>\n",
       "      <td>khtiNPX</td>\n",
       "      <td>LM8l689qOp</td>\n",
       "      <td>NA</td>\n",
       "      <td>NA</td>\n",
       "      <td>Aoh3</td>\n",
       "      <td>RAYp</td>\n",
       "      <td>F2FyR07IdsN7I</td>\n",
       "      <td>NA</td>\n",
       "    </tr>\n",
       "    <tr>\n",
       "      <th>1</th>\n",
       "      <td>NA</td>\n",
       "      <td>voArjIXt5a</td>\n",
       "      <td>RO12</td>\n",
       "      <td>NA</td>\n",
       "      <td>taul</td>\n",
       "      <td>1K8T</td>\n",
       "      <td>ssAy</td>\n",
       "      <td>im_bujo</td>\n",
       "      <td>J3fgbi2</td>\n",
       "      <td>NA</td>\n",
       "      <td>...</td>\n",
       "      <td>hf11Ctd</td>\n",
       "      <td>oslk</td>\n",
       "      <td>6Uhw_BK</td>\n",
       "      <td>LM8l689qOp</td>\n",
       "      <td>NA</td>\n",
       "      <td>NA</td>\n",
       "      <td>5Acm</td>\n",
       "      <td>RAYp</td>\n",
       "      <td>F2FyR07IdsN7I</td>\n",
       "      <td>NA</td>\n",
       "    </tr>\n",
       "    <tr>\n",
       "      <th>2</th>\n",
       "      <td>NA</td>\n",
       "      <td>tr0rEyXktW</td>\n",
       "      <td>w9ygS99Qp_</td>\n",
       "      <td>SEuy</td>\n",
       "      <td>taul</td>\n",
       "      <td>1K8T</td>\n",
       "      <td>487l</td>\n",
       "      <td>DegX3gM</td>\n",
       "      <td>k10MzgT</td>\n",
       "      <td>tTUdZA9</td>\n",
       "      <td>...</td>\n",
       "      <td>Yo3ZY8F</td>\n",
       "      <td>d0EEeJi</td>\n",
       "      <td>865oZe6</td>\n",
       "      <td>LM8l689qOp</td>\n",
       "      <td>NA</td>\n",
       "      <td>xG3x</td>\n",
       "      <td>Aoh3</td>\n",
       "      <td>nIGXDli</td>\n",
       "      <td>R4y5gQQWY8OodqDV</td>\n",
       "      <td>NA</td>\n",
       "    </tr>\n",
       "    <tr>\n",
       "      <th>3</th>\n",
       "      <td>NA</td>\n",
       "      <td>DHevyx7IEC</td>\n",
       "      <td>RO12</td>\n",
       "      <td>NA</td>\n",
       "      <td>taul</td>\n",
       "      <td>1K8T</td>\n",
       "      <td>FgS1</td>\n",
       "      <td>86dToXU</td>\n",
       "      <td>N4xbMThNdK</td>\n",
       "      <td>NA</td>\n",
       "      <td>...</td>\n",
       "      <td>QMaRwBA</td>\n",
       "      <td>oslk</td>\n",
       "      <td>0D0gQ7h</td>\n",
       "      <td>LM8l689qOp</td>\n",
       "      <td>NA</td>\n",
       "      <td>NA</td>\n",
       "      <td>szEZ</td>\n",
       "      <td>RAYp</td>\n",
       "      <td>0pzBWGkV3fbsGZN52DH</td>\n",
       "      <td>NA</td>\n",
       "    </tr>\n",
       "    <tr>\n",
       "      <th>4</th>\n",
       "      <td>NA</td>\n",
       "      <td>gOyvyx7ejg</td>\n",
       "      <td>AERks4l</td>\n",
       "      <td>SEuy</td>\n",
       "      <td>taul</td>\n",
       "      <td>1K8T</td>\n",
       "      <td>FgS1</td>\n",
       "      <td>fhk21Ss</td>\n",
       "      <td>4hMlgkf58mhwh</td>\n",
       "      <td>yN1IyBy</td>\n",
       "      <td>...</td>\n",
       "      <td>4UxGlow</td>\n",
       "      <td>zCkv</td>\n",
       "      <td>catzS2D</td>\n",
       "      <td>LM8l689qOp</td>\n",
       "      <td>NA</td>\n",
       "      <td>kG3k</td>\n",
       "      <td>szEZ</td>\n",
       "      <td>ZI9m</td>\n",
       "      <td>ib5G6X1eUxUn6</td>\n",
       "      <td>mj86</td>\n",
       "    </tr>\n",
       "  </tbody>\n",
       "</table>\n",
       "<p>5 rows × 38 columns</p>\n",
       "</div>"
      ],
      "text/plain": [
       "  Var191      Var192      Var193 Var194 Var195 Var196 Var197   Var198  \\\n",
       "0     NA  DQlrEyXXnK        RO12     NA   taul   1K8T   YFAj  LKy47iP   \n",
       "1     NA  voArjIXt5a        RO12     NA   taul   1K8T   ssAy  im_bujo   \n",
       "2     NA  tr0rEyXktW  w9ygS99Qp_   SEuy   taul   1K8T   487l  DegX3gM   \n",
       "3     NA  DHevyx7IEC        RO12     NA   taul   1K8T   FgS1  86dToXU   \n",
       "4     NA  gOyvyx7ejg     AERks4l   SEuy   taul   1K8T   FgS1  fhk21Ss   \n",
       "\n",
       "          Var199   Var200  ...   Var220   Var221   Var222      Var223 Var224  \\\n",
       "0     8nstQ62E0C       NA  ...  ZLrmfvd     oslk  khtiNPX  LM8l689qOp     NA   \n",
       "1        J3fgbi2       NA  ...  hf11Ctd     oslk  6Uhw_BK  LM8l689qOp     NA   \n",
       "2        k10MzgT  tTUdZA9  ...  Yo3ZY8F  d0EEeJi  865oZe6  LM8l689qOp     NA   \n",
       "3     N4xbMThNdK       NA  ...  QMaRwBA     oslk  0D0gQ7h  LM8l689qOp     NA   \n",
       "4  4hMlgkf58mhwh  yN1IyBy  ...  4UxGlow     zCkv  catzS2D  LM8l689qOp     NA   \n",
       "\n",
       "  Var225 Var226   Var227               Var228 Var229  \n",
       "0     NA   Aoh3     RAYp        F2FyR07IdsN7I     NA  \n",
       "1     NA   5Acm     RAYp        F2FyR07IdsN7I     NA  \n",
       "2   xG3x   Aoh3  nIGXDli     R4y5gQQWY8OodqDV     NA  \n",
       "3     NA   szEZ     RAYp  0pzBWGkV3fbsGZN52DH     NA  \n",
       "4   kG3k   szEZ     ZI9m        ib5G6X1eUxUn6   mj86  \n",
       "\n",
       "[5 rows x 38 columns]"
      ]
     },
     "execution_count": 8,
     "metadata": {},
     "output_type": "execute_result"
    }
   ],
   "source": [
    "print('Исходные категориальные признаки:')\n",
    "X_cat.head()"
   ]
  },
  {
   "cell_type": "code",
   "execution_count": 9,
   "metadata": {},
   "outputs": [
    {
     "name": "stdout",
     "output_type": "stream",
     "text": [
      "Закодированные категориальные признаки:\n"
     ]
    },
    {
     "data": {
      "text/html": [
       "<div>\n",
       "<style scoped>\n",
       "    .dataframe tbody tr th:only-of-type {\n",
       "        vertical-align: middle;\n",
       "    }\n",
       "\n",
       "    .dataframe tbody tr th {\n",
       "        vertical-align: top;\n",
       "    }\n",
       "\n",
       "    .dataframe thead th {\n",
       "        text-align: right;\n",
       "    }\n",
       "</style>\n",
       "<table border=\"1\" class=\"dataframe\">\n",
       "  <thead>\n",
       "    <tr style=\"text-align: right;\">\n",
       "      <th></th>\n",
       "      <th>Var191</th>\n",
       "      <th>Var192</th>\n",
       "      <th>Var193</th>\n",
       "      <th>Var194</th>\n",
       "      <th>Var195</th>\n",
       "      <th>Var196</th>\n",
       "      <th>Var197</th>\n",
       "      <th>Var198</th>\n",
       "      <th>Var199</th>\n",
       "      <th>Var200</th>\n",
       "      <th>...</th>\n",
       "      <th>Var220</th>\n",
       "      <th>Var221</th>\n",
       "      <th>Var222</th>\n",
       "      <th>Var223</th>\n",
       "      <th>Var224</th>\n",
       "      <th>Var225</th>\n",
       "      <th>Var226</th>\n",
       "      <th>Var227</th>\n",
       "      <th>Var228</th>\n",
       "      <th>Var229</th>\n",
       "    </tr>\n",
       "  </thead>\n",
       "  <tbody>\n",
       "    <tr>\n",
       "      <th>0</th>\n",
       "      <td>-0.850116</td>\n",
       "      <td>-0.844560</td>\n",
       "      <td>-0.830724</td>\n",
       "      <td>-0.844723</td>\n",
       "      <td>-0.848429</td>\n",
       "      <td>-0.851765</td>\n",
       "      <td>-0.942029</td>\n",
       "      <td>-0.714286</td>\n",
       "      <td>-0.890909</td>\n",
       "      <td>-0.820800</td>\n",
       "      <td>...</td>\n",
       "      <td>-0.714286</td>\n",
       "      <td>-0.835073</td>\n",
       "      <td>-0.714286</td>\n",
       "      <td>-0.850984</td>\n",
       "      <td>-0.850476</td>\n",
       "      <td>-0.821792</td>\n",
       "      <td>-0.867937</td>\n",
       "      <td>-0.830599</td>\n",
       "      <td>-0.824661</td>\n",
       "      <td>-0.821007</td>\n",
       "    </tr>\n",
       "    <tr>\n",
       "      <th>1</th>\n",
       "      <td>-0.850116</td>\n",
       "      <td>-0.853107</td>\n",
       "      <td>-0.830724</td>\n",
       "      <td>-0.844723</td>\n",
       "      <td>-0.848429</td>\n",
       "      <td>-0.851765</td>\n",
       "      <td>-0.829289</td>\n",
       "      <td>-0.500000</td>\n",
       "      <td>-0.980488</td>\n",
       "      <td>-0.820800</td>\n",
       "      <td>...</td>\n",
       "      <td>-0.500000</td>\n",
       "      <td>-0.835073</td>\n",
       "      <td>-0.500000</td>\n",
       "      <td>-0.850984</td>\n",
       "      <td>-0.850476</td>\n",
       "      <td>-0.821792</td>\n",
       "      <td>-0.828352</td>\n",
       "      <td>-0.830599</td>\n",
       "      <td>-0.824661</td>\n",
       "      <td>-0.821007</td>\n",
       "    </tr>\n",
       "    <tr>\n",
       "      <th>2</th>\n",
       "      <td>-0.850116</td>\n",
       "      <td>-0.949239</td>\n",
       "      <td>-0.921569</td>\n",
       "      <td>-0.868957</td>\n",
       "      <td>-0.848429</td>\n",
       "      <td>-0.851765</td>\n",
       "      <td>-0.841435</td>\n",
       "      <td>-0.851200</td>\n",
       "      <td>-0.934328</td>\n",
       "      <td>-0.992943</td>\n",
       "      <td>...</td>\n",
       "      <td>-0.851200</td>\n",
       "      <td>-0.907959</td>\n",
       "      <td>-0.851200</td>\n",
       "      <td>-0.850984</td>\n",
       "      <td>-0.850476</td>\n",
       "      <td>-0.895031</td>\n",
       "      <td>-0.867937</td>\n",
       "      <td>-0.900217</td>\n",
       "      <td>-0.907692</td>\n",
       "      <td>-0.821007</td>\n",
       "    </tr>\n",
       "    <tr>\n",
       "      <th>3</th>\n",
       "      <td>-0.850116</td>\n",
       "      <td>-0.917051</td>\n",
       "      <td>-0.830724</td>\n",
       "      <td>-0.844723</td>\n",
       "      <td>-0.848429</td>\n",
       "      <td>-0.851765</td>\n",
       "      <td>-0.933014</td>\n",
       "      <td>-0.898305</td>\n",
       "      <td>-0.620253</td>\n",
       "      <td>-0.820800</td>\n",
       "      <td>...</td>\n",
       "      <td>-0.898305</td>\n",
       "      <td>-0.835073</td>\n",
       "      <td>-0.898305</td>\n",
       "      <td>-0.850984</td>\n",
       "      <td>-0.850476</td>\n",
       "      <td>-0.821792</td>\n",
       "      <td>-0.889319</td>\n",
       "      <td>-0.830599</td>\n",
       "      <td>-0.810811</td>\n",
       "      <td>-0.821007</td>\n",
       "    </tr>\n",
       "    <tr>\n",
       "      <th>4</th>\n",
       "      <td>-0.850116</td>\n",
       "      <td>-0.922481</td>\n",
       "      <td>-0.892506</td>\n",
       "      <td>-0.868957</td>\n",
       "      <td>-0.848429</td>\n",
       "      <td>-0.851765</td>\n",
       "      <td>-0.933014</td>\n",
       "      <td>-0.925262</td>\n",
       "      <td>-0.868421</td>\n",
       "      <td>-0.851200</td>\n",
       "      <td>...</td>\n",
       "      <td>-0.925262</td>\n",
       "      <td>-0.896186</td>\n",
       "      <td>-0.925262</td>\n",
       "      <td>-0.850984</td>\n",
       "      <td>-0.850476</td>\n",
       "      <td>-0.864434</td>\n",
       "      <td>-0.889319</td>\n",
       "      <td>-0.919546</td>\n",
       "      <td>-0.918063</td>\n",
       "      <td>-0.894396</td>\n",
       "    </tr>\n",
       "  </tbody>\n",
       "</table>\n",
       "<p>5 rows × 38 columns</p>\n",
       "</div>"
      ],
      "text/plain": [
       "     Var191    Var192    Var193    Var194    Var195    Var196    Var197  \\\n",
       "0 -0.850116 -0.844560 -0.830724 -0.844723 -0.848429 -0.851765 -0.942029   \n",
       "1 -0.850116 -0.853107 -0.830724 -0.844723 -0.848429 -0.851765 -0.829289   \n",
       "2 -0.850116 -0.949239 -0.921569 -0.868957 -0.848429 -0.851765 -0.841435   \n",
       "3 -0.850116 -0.917051 -0.830724 -0.844723 -0.848429 -0.851765 -0.933014   \n",
       "4 -0.850116 -0.922481 -0.892506 -0.868957 -0.848429 -0.851765 -0.933014   \n",
       "\n",
       "     Var198    Var199    Var200  ...    Var220    Var221    Var222    Var223  \\\n",
       "0 -0.714286 -0.890909 -0.820800  ... -0.714286 -0.835073 -0.714286 -0.850984   \n",
       "1 -0.500000 -0.980488 -0.820800  ... -0.500000 -0.835073 -0.500000 -0.850984   \n",
       "2 -0.851200 -0.934328 -0.992943  ... -0.851200 -0.907959 -0.851200 -0.850984   \n",
       "3 -0.898305 -0.620253 -0.820800  ... -0.898305 -0.835073 -0.898305 -0.850984   \n",
       "4 -0.925262 -0.868421 -0.851200  ... -0.925262 -0.896186 -0.925262 -0.850984   \n",
       "\n",
       "     Var224    Var225    Var226    Var227    Var228    Var229  \n",
       "0 -0.850476 -0.821792 -0.867937 -0.830599 -0.824661 -0.821007  \n",
       "1 -0.850476 -0.821792 -0.828352 -0.830599 -0.824661 -0.821007  \n",
       "2 -0.850476 -0.895031 -0.867937 -0.900217 -0.907692 -0.821007  \n",
       "3 -0.850476 -0.821792 -0.889319 -0.830599 -0.810811 -0.821007  \n",
       "4 -0.850476 -0.864434 -0.889319 -0.919546 -0.918063 -0.894396  \n",
       "\n",
       "[5 rows x 38 columns]"
      ]
     },
     "execution_count": 9,
     "metadata": {},
     "output_type": "execute_result"
    }
   ],
   "source": [
    "print('Закодированные категориальные признаки:')\n",
    "X_cat_transformed.head()"
   ]
  },
  {
   "cell_type": "markdown",
   "metadata": {},
   "source": [
    "Объединим числовые и трансформированные категориальные признаки в исходный набор данных"
   ]
  },
  {
   "cell_type": "code",
   "execution_count": 10,
   "metadata": {},
   "outputs": [],
   "source": [
    "X = X_num.join(X_cat_transformed)"
   ]
  },
  {
   "cell_type": "markdown",
   "metadata": {},
   "source": [
    "Приступим к тестированию классификаторов методом кросс-валидации с тремя фолдами. Начнем с простой линейной регрессии."
   ]
  },
  {
   "cell_type": "code",
   "execution_count": 11,
   "metadata": {},
   "outputs": [
    {
     "name": "stdout",
     "output_type": "stream",
     "text": [
      "Wall time: 1.03 s\n"
     ]
    }
   ],
   "source": [
    "%%time\n",
    "rc_scores = cross_validate(RidgeClassifier(), X, y, \n",
    "                           cv=StratifiedKFold(n_splits=3, random_state=0), \n",
    "                           scoring='average_precision')"
   ]
  },
  {
   "cell_type": "markdown",
   "metadata": {},
   "source": [
    "Посмотрим на среднее значение auc-prc"
   ]
  },
  {
   "cell_type": "code",
   "execution_count": 12,
   "metadata": {},
   "outputs": [
    {
     "data": {
      "text/plain": [
       "0.5716318032463783"
      ]
     },
     "execution_count": 12,
     "metadata": {},
     "output_type": "execute_result"
    }
   ],
   "source": [
    "rc_scores['test_score'].mean()"
   ]
  },
  {
   "cell_type": "markdown",
   "metadata": {},
   "source": [
    "Неплохо для решения задачи \"в лоб\". Теперь попробуем случайный лес."
   ]
  },
  {
   "cell_type": "code",
   "execution_count": 13,
   "metadata": {},
   "outputs": [
    {
     "name": "stdout",
     "output_type": "stream",
     "text": [
      "Wall time: 3.15 s\n"
     ]
    }
   ],
   "source": [
    "%%time\n",
    "rf_scores = cross_validate(RandomForestClassifier(), X, y, \n",
    "                           cv=StratifiedKFold(n_splits=3, random_state=0), \n",
    "                           scoring='average_precision')"
   ]
  },
  {
   "cell_type": "code",
   "execution_count": 14,
   "metadata": {},
   "outputs": [
    {
     "data": {
      "text/plain": [
       "0.41886946177453505"
      ]
     },
     "execution_count": 14,
     "metadata": {},
     "output_type": "execute_result"
    }
   ],
   "source": [
    "rf_scores['test_score'].mean()"
   ]
  },
  {
   "cell_type": "markdown",
   "metadata": {},
   "source": [
    "Похуже, но тоже неплохо для первого раза. Дальше поробуем градиентный бустинг"
   ]
  },
  {
   "cell_type": "code",
   "execution_count": 15,
   "metadata": {},
   "outputs": [
    {
     "name": "stdout",
     "output_type": "stream",
     "text": [
      "Wall time: 47.7 s\n"
     ]
    }
   ],
   "source": [
    "%%time\n",
    "gb_scores = cross_validate(GradientBoostingClassifier(), X, y, \n",
    "                           cv=StratifiedKFold(n_splits=3, random_state=0), \n",
    "                           scoring='average_precision')"
   ]
  },
  {
   "cell_type": "code",
   "execution_count": 16,
   "metadata": {},
   "outputs": [
    {
     "data": {
      "text/plain": [
       "0.6589732177925965"
      ]
     },
     "execution_count": 16,
     "metadata": {},
     "output_type": "execute_result"
    }
   ],
   "source": [
    "gb_scores['test_score'].mean()"
   ]
  },
  {
   "cell_type": "markdown",
   "metadata": {},
   "source": [
    "Замечательный результат. Видимо большой вклад в предсказательную способность модели вносят категориальные признаки и выбранная методика их кодирования прекрасно подходит для этого способа классификации (уточнять этот момент будем позже, для бейзлайна пока достаточно и этого).\n",
    "\n",
    "В любом случае нужно посмотреть, что там происходит с полнотой (recall) и точностью (precision) по отдельности. Посмотрим также их в совокупности на примере F-меры, а также другие метрики оценки качества классификаторов.\n",
    "\n",
    "Посмотрим как себя ведут различные метрики качества классификаторов в кросс-валидации в зависимости от числа разбиений тренировочных и тестовых подвыборок. Протестируем классификаторы на 3, 5, 7, 10 фолдов и визуализируем влияния количества сплитов на изменение основных метрик."
   ]
  },
  {
   "cell_type": "code",
   "execution_count": 17,
   "metadata": {},
   "outputs": [],
   "source": [
    "def model_scoring(clf, X, y):\n",
    "    scoring_list = ['accuracy', 'precision', 'recall', 'f1', 'average_precision', 'roc_auc']\n",
    "    folds_list = [3, 5, 7, 10]\n",
    "    score_table = pd.DataFrame(columns=scoring_list, index=folds_list)\n",
    "    for n_splits in folds_list:\n",
    "        row = []\n",
    "        for scoring in scoring_list:\n",
    "            scores = cross_validate(clf, X, y,\n",
    "                                    cv=StratifiedKFold(n_splits=n_splits, random_state=0),\n",
    "                                    scoring=scoring)\n",
    "            row.append(scores['test_score'].mean())\n",
    "        score_table.loc[n_splits] = row\n",
    "    \n",
    "    return score_table"
   ]
  },
  {
   "cell_type": "code",
   "execution_count": 18,
   "metadata": {},
   "outputs": [
    {
     "name": "stdout",
     "output_type": "stream",
     "text": [
      "Ridge classifier:\n",
      "Wall time: 35.6 s\n"
     ]
    },
    {
     "data": {
      "text/html": [
       "<div>\n",
       "<style scoped>\n",
       "    .dataframe tbody tr th:only-of-type {\n",
       "        vertical-align: middle;\n",
       "    }\n",
       "\n",
       "    .dataframe tbody tr th {\n",
       "        vertical-align: top;\n",
       "    }\n",
       "\n",
       "    .dataframe thead th {\n",
       "        text-align: right;\n",
       "    }\n",
       "</style>\n",
       "<table border=\"1\" class=\"dataframe\">\n",
       "  <thead>\n",
       "    <tr style=\"text-align: right;\">\n",
       "      <th></th>\n",
       "      <th>accuracy</th>\n",
       "      <th>precision</th>\n",
       "      <th>recall</th>\n",
       "      <th>f1</th>\n",
       "      <th>average_precision</th>\n",
       "      <th>roc_auc</th>\n",
       "    </tr>\n",
       "  </thead>\n",
       "  <tbody>\n",
       "    <tr>\n",
       "      <th>3</th>\n",
       "      <td>0.935567</td>\n",
       "      <td>0.786629</td>\n",
       "      <td>0.184588</td>\n",
       "      <td>0.29809</td>\n",
       "      <td>0.571632</td>\n",
       "      <td>0.933056</td>\n",
       "    </tr>\n",
       "    <tr>\n",
       "      <th>5</th>\n",
       "      <td>0.935367</td>\n",
       "      <td>0.779241</td>\n",
       "      <td>0.182778</td>\n",
       "      <td>0.295637</td>\n",
       "      <td>0.573015</td>\n",
       "      <td>0.933139</td>\n",
       "    </tr>\n",
       "    <tr>\n",
       "      <th>7</th>\n",
       "      <td>0.935367</td>\n",
       "      <td>0.780103</td>\n",
       "      <td>0.182341</td>\n",
       "      <td>0.294669</td>\n",
       "      <td>0.575946</td>\n",
       "      <td>0.93324</td>\n",
       "    </tr>\n",
       "    <tr>\n",
       "      <th>10</th>\n",
       "      <td>0.935466</td>\n",
       "      <td>0.779077</td>\n",
       "      <td>0.184555</td>\n",
       "      <td>0.297108</td>\n",
       "      <td>0.576925</td>\n",
       "      <td>0.933451</td>\n",
       "    </tr>\n",
       "  </tbody>\n",
       "</table>\n",
       "</div>"
      ],
      "text/plain": [
       "    accuracy precision    recall        f1 average_precision   roc_auc\n",
       "3   0.935567  0.786629  0.184588   0.29809          0.571632  0.933056\n",
       "5   0.935367  0.779241  0.182778  0.295637          0.573015  0.933139\n",
       "7   0.935367  0.780103  0.182341  0.294669          0.575946   0.93324\n",
       "10  0.935466  0.779077  0.184555  0.297108          0.576925  0.933451"
      ]
     },
     "execution_count": 18,
     "metadata": {},
     "output_type": "execute_result"
    }
   ],
   "source": [
    "print('Ridge classifier:')\n",
    "%time rc_tab = model_scoring(RidgeClassifier(), X, y)\n",
    "rc_tab"
   ]
  },
  {
   "cell_type": "code",
   "execution_count": 19,
   "metadata": {},
   "outputs": [
    {
     "data": {
      "image/png": "[encoded data removed]",
      "text/plain": [
       "<Figure size 432x288 with 1 Axes>"
      ]
     },
     "metadata": {
      "needs_background": "light"
     },
     "output_type": "display_data"
    }
   ],
   "source": [
    "rc_tab.apply(lambda x: x-min(x)).T.plot.bar()\n",
    "plt.show()"
   ]
  },
  {
   "cell_type": "code",
   "execution_count": 20,
   "metadata": {},
   "outputs": [
    {
     "name": "stdout",
     "output_type": "stream",
     "text": [
      "Random forest classifier:\n",
      "Wall time: 2min 5s\n"
     ]
    },
    {
     "data": {
      "text/html": [
       "<div>\n",
       "<style scoped>\n",
       "    .dataframe tbody tr th:only-of-type {\n",
       "        vertical-align: middle;\n",
       "    }\n",
       "\n",
       "    .dataframe tbody tr th {\n",
       "        vertical-align: top;\n",
       "    }\n",
       "\n",
       "    .dataframe thead th {\n",
       "        text-align: right;\n",
       "    }\n",
       "</style>\n",
       "<table border=\"1\" class=\"dataframe\">\n",
       "  <thead>\n",
       "    <tr style=\"text-align: right;\">\n",
       "      <th></th>\n",
       "      <th>accuracy</th>\n",
       "      <th>precision</th>\n",
       "      <th>recall</th>\n",
       "      <th>f1</th>\n",
       "      <th>average_precision</th>\n",
       "      <th>roc_auc</th>\n",
       "    </tr>\n",
       "  </thead>\n",
       "  <tbody>\n",
       "    <tr>\n",
       "      <th>3</th>\n",
       "      <td>0.932167</td>\n",
       "      <td>0.688173</td>\n",
       "      <td>0.181004</td>\n",
       "      <td>0.281052</td>\n",
       "      <td>0.419552</td>\n",
       "      <td>0.861278</td>\n",
       "    </tr>\n",
       "    <tr>\n",
       "      <th>5</th>\n",
       "      <td>0.9318</td>\n",
       "      <td>0.675093</td>\n",
       "      <td>0.168448</td>\n",
       "      <td>0.269208</td>\n",
       "      <td>0.440225</td>\n",
       "      <td>0.866903</td>\n",
       "    </tr>\n",
       "    <tr>\n",
       "      <th>7</th>\n",
       "      <td>0.9325</td>\n",
       "      <td>0.701444</td>\n",
       "      <td>0.183242</td>\n",
       "      <td>0.302509</td>\n",
       "      <td>0.428215</td>\n",
       "      <td>0.86454</td>\n",
       "    </tr>\n",
       "    <tr>\n",
       "      <th>10</th>\n",
       "      <td>0.932566</td>\n",
       "      <td>0.675628</td>\n",
       "      <td>0.188143</td>\n",
       "      <td>0.282892</td>\n",
       "      <td>0.422052</td>\n",
       "      <td>0.873737</td>\n",
       "    </tr>\n",
       "  </tbody>\n",
       "</table>\n",
       "</div>"
      ],
      "text/plain": [
       "    accuracy precision    recall        f1 average_precision   roc_auc\n",
       "3   0.932167  0.688173  0.181004  0.281052          0.419552  0.861278\n",
       "5     0.9318  0.675093  0.168448  0.269208          0.440225  0.866903\n",
       "7     0.9325  0.701444  0.183242  0.302509          0.428215   0.86454\n",
       "10  0.932566  0.675628  0.188143  0.282892          0.422052  0.873737"
      ]
     },
     "execution_count": 20,
     "metadata": {},
     "output_type": "execute_result"
    }
   ],
   "source": [
    "print('Random forest classifier:')\n",
    "%time rf_tab = model_scoring(RandomForestClassifier(n_jobs=6), X, y)\n",
    "rf_tab"
   ]
  },
  {
   "cell_type": "code",
   "execution_count": 21,
   "metadata": {},
   "outputs": [
    {
     "data": {
      "image/png": "[encoded data removed]",
      "text/plain": [
       "<Figure size 432x288 with 1 Axes>"
      ]
     },
     "metadata": {
      "needs_background": "light"
     },
     "output_type": "display_data"
    }
   ],
   "source": [
    "rf_tab.apply(lambda x: x-min(x)).T.plot.bar()\n",
    "plt.show()"
   ]
  },
  {
   "cell_type": "code",
   "execution_count": 22,
   "metadata": {},
   "outputs": [
    {
     "name": "stdout",
     "output_type": "stream",
     "text": [
      "Gradient boosting classifier:\n",
      "Wall time: 48min 43s\n"
     ]
    },
    {
     "data": {
      "text/html": [
       "<div>\n",
       "<style scoped>\n",
       "    .dataframe tbody tr th:only-of-type {\n",
       "        vertical-align: middle;\n",
       "    }\n",
       "\n",
       "    .dataframe tbody tr th {\n",
       "        vertical-align: top;\n",
       "    }\n",
       "\n",
       "    .dataframe thead th {\n",
       "        text-align: right;\n",
       "    }\n",
       "</style>\n",
       "<table border=\"1\" class=\"dataframe\">\n",
       "  <thead>\n",
       "    <tr style=\"text-align: right;\">\n",
       "      <th></th>\n",
       "      <th>accuracy</th>\n",
       "      <th>precision</th>\n",
       "      <th>recall</th>\n",
       "      <th>f1</th>\n",
       "      <th>average_precision</th>\n",
       "      <th>roc_auc</th>\n",
       "    </tr>\n",
       "  </thead>\n",
       "  <tbody>\n",
       "    <tr>\n",
       "      <th>3</th>\n",
       "      <td>0.9458</td>\n",
       "      <td>0.719891</td>\n",
       "      <td>0.443996</td>\n",
       "      <td>0.54947</td>\n",
       "      <td>0.659222</td>\n",
       "      <td>0.955867</td>\n",
       "    </tr>\n",
       "    <tr>\n",
       "      <th>5</th>\n",
       "      <td>0.9458</td>\n",
       "      <td>0.726287</td>\n",
       "      <td>0.435909</td>\n",
       "      <td>0.544073</td>\n",
       "      <td>0.660067</td>\n",
       "      <td>0.956477</td>\n",
       "    </tr>\n",
       "    <tr>\n",
       "      <th>7</th>\n",
       "      <td>0.945567</td>\n",
       "      <td>0.721008</td>\n",
       "      <td>0.437722</td>\n",
       "      <td>0.544705</td>\n",
       "      <td>0.662171</td>\n",
       "      <td>0.956125</td>\n",
       "    </tr>\n",
       "    <tr>\n",
       "      <th>10</th>\n",
       "      <td>0.945933</td>\n",
       "      <td>0.730766</td>\n",
       "      <td>0.43588</td>\n",
       "      <td>0.544575</td>\n",
       "      <td>0.664699</td>\n",
       "      <td>0.956589</td>\n",
       "    </tr>\n",
       "  </tbody>\n",
       "</table>\n",
       "</div>"
      ],
      "text/plain": [
       "    accuracy precision    recall        f1 average_precision   roc_auc\n",
       "3     0.9458  0.719891  0.443996   0.54947          0.659222  0.955867\n",
       "5     0.9458  0.726287  0.435909  0.544073          0.660067  0.956477\n",
       "7   0.945567  0.721008  0.437722  0.544705          0.662171  0.956125\n",
       "10  0.945933  0.730766   0.43588  0.544575          0.664699  0.956589"
      ]
     },
     "execution_count": 22,
     "metadata": {},
     "output_type": "execute_result"
    }
   ],
   "source": [
    "print('Gradient boosting classifier:')\n",
    "%time gb_tab = model_scoring(GradientBoostingClassifier(), X, y)\n",
    "gb_tab"
   ]
  },
  {
   "cell_type": "code",
   "execution_count": 23,
   "metadata": {},
   "outputs": [
    {
     "data": {
      "image/png": "[encoded data removed]",
      "text/plain": [
       "<Figure size 432x288 with 1 Axes>"
      ]
     },
     "metadata": {
      "needs_background": "light"
     },
     "output_type": "display_data"
    }
   ],
   "source": [
    "gb_tab.apply(lambda x: x-min(x)).T.plot.bar()\n",
    "plt.show()"
   ]
  },
  {
   "cell_type": "markdown",
   "metadata": {},
   "source": [
    "Как видно из приведенных графиков количество фолдов из выбранного диапазона не сильно влияет на качество модели.\n",
    "\n",
    "В качестве вывода: мы сформировали бейзлайн. За основу возьмем классификатор, который показал самое лучшее качество - градиентный бустинг над решающими деревьями.\n",
    "\n",
    "Качество бейзлана получилось выше, чем я ожидал. Дальше будем улучшать качество модели работая как непосредственно с данными, так и подбирая оптимальные параметры самого классификатора."
   ]
  },
  {
   "cell_type": "code",
   "execution_count": null,
   "metadata": {},
   "outputs": [],
   "source": []
  }
 ],
 "metadata": {
  "kernelspec": {
   "display_name": "Python 2",
   "language": "python",
   "name": "python2"
  },
  "language_info": {
   "codemirror_mode": {
    "name": "ipython",
    "version": 2
   },
   "file_extension": ".py",
   "mimetype": "text/x-python",
   "name": "python",
   "nbconvert_exporter": "python",
   "pygments_lexer": "ipython2",
   "version": "2.7.16"
  }
 },
 "nbformat": 4,
 "nbformat_minor": 2
}
