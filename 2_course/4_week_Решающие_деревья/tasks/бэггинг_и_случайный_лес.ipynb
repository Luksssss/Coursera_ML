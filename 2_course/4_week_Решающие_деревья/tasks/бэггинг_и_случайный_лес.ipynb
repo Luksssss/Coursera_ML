{
 "cells": [
  {
   "cell_type": "markdown",
   "metadata": {},
   "source": [
    "Загрузите датасет digits с помощью функции load_digits из sklearn.datasets и подготовьте матрицу признаков X и ответы на обучающей выборке y (вам потребуются поля data и target в объекте, который возвращает load_digits).\n",
    "\n",
    "Для оценки качества далее нужно будет использовать cross_val_score из sklearn.cross_validation с параметром cv=10. Эта функция реализует k-fold cross validation c k равным значению параметра cv. Мы предлагаем использовать k=10, чтобы полученные оценки качества имели небольшой разброс, и было проще проверить полученные ответы. На практике же часто хватает и k=5. Функция cross_val_score будет возвращать numpy.ndarray, в котором будет k чисел - качество в каждом из k экспериментов k-fold cross validation. Для получения среднего значения (которое и будет оценкой качества работы) вызовите метод .mean() у массива, который возвращает cross_val_score.\n",
    "\n",
    "С небольшой вероятностью вы можете натолкнуться на случай, когда полученное вами качество в каком-то из пунктов не попадет в диапазон, заданный для правильных ответов - в этом случае попробуйте перезапустить ячейку с cross_val_score несколько раз и выбрать наиболее «типичное» значение. Если это не помогает, то где-то была допущена ошибка.\n",
    "\n",
    "Если вам захочется ускорить вычисление cross_val_score - можете попробовать использовать параметр n_jobs, но будьте осторожны: в одной из старых версий sklearn была ошибка, которая приводила к неверному результату работы cross_val_score при задании n_jobs отличным от 1. Сейчас такой проблемы возникнуть не должно, но проверить, что все в порядке, не будет лишним.\n",
    "\n",
    "1.\n",
    "\n",
    "Создайте DecisionTreeClassifier с настройками по умолчанию и измерьте качество его работы с помощью cross_val_score. Эта величина и будет ответом в пункте 1.\n",
    "\n",
    "2.\n",
    "\n",
    "Воспользуйтесь BaggingClassifier из sklearn.ensemble, чтобы обучить бэггинг над DecisionTreeClassifier. Используйте в BaggingClassifier параметры по умолчанию, задав только количество деревьев равным 100.\n",
    "\n",
    "Качество классификации новой модели - ответ в пункте 2. Обратите внимание, как соотносится качество работы композиции решающих деревьев с качеством работы одного решающего дерева.\n",
    "\n",
    "3.\n",
    "\n",
    "Теперь изучите параметры BaggingClassifier и выберите их такими, чтобы каждый базовый алгоритм обучался не на всех d признаках, а на \\sqrt{d} \n",
    "d\n",
    "​\t  случайных признаков. Качество работы получившегося классификатора - ответ в пункте 3. Корень из числа признаков - часто используемая эвристика в задачах классификации, в задачах регрессии же часто берут число признаков, деленное на три. Но в общем случае ничто не мешает вам выбирать любое другое число случайных признаков.\n",
    "\n",
    "4.\n",
    "\n",
    "Наконец, давайте попробуем выбирать случайные признаки не один раз на все дерево, а при построении каждой вершины дерева. Сделать это несложно: нужно убрать выбор случайного подмножества признаков в BaggingClassifier и добавить его в DecisionTreeClassifier. Какой параметр за это отвечает, можно понять из документации sklearn, либо просто попробовать угадать (скорее всего, у вас сразу получится). Попробуйте выбирать опять же \\sqrt{d} \n",
    "d\n",
    "​\t  признаков. Качество полученного классификатора на контрольной выборке и будет ответом в пункте 4.\n",
    "\n",
    "5.\n",
    "\n",
    "Полученный в пункте 4 классификатор - бэггинг на рандомизированных деревьях (в которых при построении каждой вершины выбирается случайное подмножество признаков и разбиение ищется только по ним). Это в точности соответствует алгоритму Random Forest, поэтому почему бы не сравнить качество работы классификатора с RandomForestClassifier из sklearn.ensemble. Сделайте это, а затем изучите, как качество классификации на данном датасете зависит от количества деревьев, количества признаков, выбираемых при построении каждой вершины дерева, а также ограничений на глубину дерева. Для наглядности лучше построить графики зависимости качества от значений параметров, но для сдачи задания это делать не обязательно.\n",
    "\n",
    "На основе наблюдений выпишите через пробел номера правильных утверждений из приведенных ниже в порядке возрастания номера (это будет ответ в п.5)\n",
    "\n",
    "1) Случайный лес сильно переобучается с ростом количества деревьев\n",
    "\n",
    "2) При очень маленьком числе деревьев (5, 10, 15), случайный лес работает хуже, чем при большем числе деревьев\n",
    "\n",
    "3) С ростом количества деревьев в случайном лесе, в какой-то момент деревьев становится достаточно для высокого качества классификации, а затем качество существенно не меняется.\n",
    "\n",
    "4) При большом количестве признаков (для данного датасета - 40, 50) качество классификации становится хуже, чем при малом количестве признаков (5, 10). Это связано с тем, что чем меньше признаков выбирается в каждом узле, тем более различными получаются деревья (ведь деревья сильно неустойчивы к изменениям в обучающей выборке), и тем лучше работает их композиция.\n",
    "\n",
    "5) При большом количестве признаков (40, 50, 60) качество классификации лучше, чем при малом количестве признаков (5, 10). Это связано с тем, что чем больше признаков - тем больше информации об объектах, а значит алгоритм может делать прогнозы более точно.\n",
    "\n",
    "6) При небольшой максимальной глубине деревьев (5-6) качество работы случайного леса намного лучше, чем без ограничения глубины, т.к. деревья получаются не переобученными. С ростом глубины деревьев качество ухудшается.\n",
    "\n",
    "7) При небольшой максимальной глубине деревьев (5-6) качество работы случайного леса заметно хуже, чем без ограничений, т.к. деревья получаются недообученными. С ростом глубины качество сначала улучшается, а затем не меняется существенно, т.к. из-за усреднения прогнозов и различий деревьев их переобученность в бэггинге не сказывается на итоговом качестве (все деревья преобучены по-разному, и при усреднении они компенсируют переобученность друг-друга)."
   ]
  },
  {
   "cell_type": "code",
   "execution_count": 23,
   "metadata": {},
   "outputs": [],
   "source": [
    "from sklearn import  model_selection, datasets, metrics, tree, ensemble\n",
    "import numpy as np"
   ]
  },
  {
   "cell_type": "code",
   "execution_count": 6,
   "metadata": {},
   "outputs": [],
   "source": [
    "data = datasets.load_digits()\n",
    "X = data.data\n",
    "y = data.target"
   ]
  },
  {
   "cell_type": "code",
   "execution_count": 10,
   "metadata": {},
   "outputs": [
    {
     "name": "stdout",
     "output_type": "stream",
     "text": [
      "(1797, 64)\n",
      "(1797,)\n"
     ]
    }
   ],
   "source": [
    "print X.shape\n",
    "print y.shape"
   ]
  },
  {
   "cell_type": "code",
   "execution_count": 26,
   "metadata": {},
   "outputs": [],
   "source": [
    "# cross_val_score функция которая строит модели и сразу выдаёт метрики\n",
    "# задаём 1 решающее дерево\n",
    "clf_tree = tree.DecisionTreeClassifier()\n",
    "tree_scoring = model_selection.cross_val_score(clf_tree, X, y, cv = 10)"
   ]
  },
  {
   "cell_type": "code",
   "execution_count": 27,
   "metadata": {},
   "outputs": [
    {
     "data": {
      "text/plain": [
       "0.8281682026361228"
      ]
     },
     "execution_count": 27,
     "metadata": {},
     "output_type": "execute_result"
    }
   ],
   "source": [
    "# metrics.SCORERS.keys()\n",
    "\n",
    "# ОТВЕТ 1\n",
    "# качество такого алгоритма (судя по всему за меру тут по умолчанию берётся accuracy)\n",
    "tree_scoring.mean()"
   ]
  },
  {
   "cell_type": "code",
   "execution_count": 20,
   "metadata": {},
   "outputs": [],
   "source": [
    "# def write_answer_1(mas):\n",
    "#     with open(\"answer1.txt\", \"w\") as fout:\n",
    "#         fout.write(\" \".join([str(num) for num in mas]))\n",
    "        \n",
    "# write_answer_1(tree_scoring)"
   ]
  },
  {
   "cell_type": "code",
   "execution_count": 29,
   "metadata": {},
   "outputs": [
    {
     "data": {
      "text/plain": [
       "0.9265603088959283"
      ]
     },
     "execution_count": 29,
     "metadata": {},
     "output_type": "execute_result"
    }
   ],
   "source": [
    "# n_estimators - количество деревьев\n",
    "# max_samples отвечает за объем подвыборки\n",
    "model_bag = ensemble.BaggingClassifier(base_estimator=clf_tree, n_estimators=100, n_jobs=2)\n",
    "bag_scoring = model_selection.cross_val_score(model_bag, X, y, cv = 10)\n",
    "\n",
    "# ОТВЕТ 2\n",
    "# Деревья неустойчивы к изменениям в обучающей выборке, поэтому в результате усреднения по деревьям, \n",
    "# построенным на немного разных выборках (как это происходит в бэггинге), получается более точный ответ\n",
    "bag_scoring.mean()"
   ]
  },
  {
   "cell_type": "code",
   "execution_count": 43,
   "metadata": {},
   "outputs": [
    {
     "data": {
      "text/plain": [
       "0.9393641253970836"
      ]
     },
     "execution_count": 43,
     "metadata": {},
     "output_type": "execute_result"
    }
   ],
   "source": [
    "# X.shape[1] - количество признаков\n",
    "# получаем % признаков которые будем использовать для бэгинга (max_features)\n",
    "# т.е. для каждого из 100 деревьев будем брать случайные 8 признаков и строить по ним.\n",
    "feature_cnt = np.sqrt(X.shape[1]) / X.shape[1]\n",
    "\n",
    "model_bag = ensemble.BaggingClassifier(base_estimator=clf_tree, n_estimators=100, n_jobs=2, max_features = feature_cnt)\n",
    "bag_scoring = model_selection.cross_val_score(model_bag, X, y, cv = 10)\n",
    "\n",
    "# ОТВЕТ 3\n",
    "# С добавлением выбора случайных признаков деревья стали различаться еще больше,в результате композиция работает лучше.\n",
    "bag_scoring.mean()"
   ]
  },
  {
   "cell_type": "code",
   "execution_count": 44,
   "metadata": {},
   "outputs": [
    {
     "data": {
      "text/plain": [
       "0.954410954232783"
      ]
     },
     "execution_count": 44,
     "metadata": {},
     "output_type": "execute_result"
    }
   ],
   "source": [
    "# https://scikit-learn.org/stable/modules/generated/sklearn.tree.DecisionTreeClassifier.html\n",
    "\n",
    "# Из документации:\n",
    "# max_features - The number of features to consider when looking for the best split\n",
    "# If “auto”, then max_features=sqrt(n_features).\n",
    "# Т.е. для каждого разделения будет выбираться лучший признак из 8\n",
    "\n",
    "clf_tree = tree.DecisionTreeClassifier(max_features='auto')\n",
    "model_bag = ensemble.BaggingClassifier(base_estimator=clf_tree, n_estimators=100, n_jobs=2)\n",
    "bag_scoring = model_selection.cross_val_score(model_bag, X, y, cv = 10)\n",
    "\n",
    "# ответ 4\n",
    "# С добавлением выбора случайных признаков деревья стали различаться еще больше,в результате композиция работает лучше.\n",
    "bag_scoring.mean()\n",
    "\n",
    "# Если выбирать случайные признаки в каждой вершине, отличия между деревьями становятся еще более существенными, \n",
    "# что хорошо сказывается на качестве работы композиции. Именно так и устроен случайный лес."
   ]
  },
  {
   "cell_type": "markdown",
   "metadata": {},
   "source": [
    "**СЛУЧАЙНЫЙ ЛЕС**"
   ]
  },
  {
   "cell_type": "code",
   "execution_count": 47,
   "metadata": {},
   "outputs": [
    {
     "data": {
      "text/plain": [
       "0.9549760419561808"
      ]
     },
     "execution_count": 47,
     "metadata": {},
     "output_type": "execute_result"
    }
   ],
   "source": [
    "# https://scikit-learn.org/stable/modules/generated/sklearn.ensemble.RandomForestClassifier.html\n",
    "    \n",
    "# СЛУЧАЙНЫЙ ЛЕС\n",
    "model_rtree = ensemble.RandomForestClassifier(n_estimators=100, max_features='auto')\n",
    "bag_scoring = model_selection.cross_val_score(model_rtree, X, y, cv = 10)\n",
    "\n",
    "bag_scoring.mean()"
   ]
  },
  {
   "cell_type": "code",
   "execution_count": 52,
   "metadata": {},
   "outputs": [],
   "source": [
    "model_rtree = ensemble.RandomForestClassifier()\n",
    "\n",
    "# строим сетку c параметрами\n",
    "parameters_grid = {\n",
    "    'n_estimators' : [5, 10, 15, 100],\n",
    "    'max_features' : [8, 16, 32, 64],\n",
    "}\n",
    "\n",
    "grid_cv = model_selection.GridSearchCV(model_rtree, parameters_grid, scoring = 'accuracy', cv = 5, n_jobs=4)"
   ]
  },
  {
   "cell_type": "code",
   "execution_count": 56,
   "metadata": {},
   "outputs": [
    {
     "name": "stdout",
     "output_type": "stream",
     "text": [
      "CPU times: user 493 ms, sys: 4.53 ms, total: 498 ms\n",
      "Wall time: 6.57 s\n"
     ]
    },
    {
     "data": {
      "text/plain": [
       "GridSearchCV(cv=5, error_score='raise-deprecating',\n",
       "       estimator=RandomForestClassifier(bootstrap=True, class_weight=None, criterion='gini',\n",
       "            max_depth=None, max_features='auto', max_leaf_nodes=None,\n",
       "            min_impurity_decrease=0.0, min_impurity_split=None,\n",
       "            min_samples_leaf=1, min_samples_split=2,\n",
       "            min_weight_fraction_leaf=0.0, n_estimators='warn', n_jobs=None,\n",
       "            oob_score=False, random_state=None, verbose=0,\n",
       "            warm_start=False),\n",
       "       fit_params=None, iid='warn', n_jobs=4,\n",
       "       param_grid={'n_estimators': [5, 10, 15, 100], 'max_features': [8, 16, 32, 64]},\n",
       "       pre_dispatch='2*n_jobs', refit=True, return_train_score='warn',\n",
       "       scoring='accuracy', verbose=0)"
      ]
     },
     "execution_count": 56,
     "metadata": {},
     "output_type": "execute_result"
    }
   ],
   "source": [
    "%%time\n",
    "grid_cv.fit(X,y)"
   ]
  },
  {
   "cell_type": "code",
   "execution_count": 71,
   "metadata": {},
   "outputs": [
    {
     "name": "stdout",
     "output_type": "stream",
     "text": [
      "0.9365609348914858\n",
      "{'max_features': 8, 'n_estimators': 100}\n",
      "[{'max_features': 8, 'n_estimators': 5}, {'max_features': 8, 'n_estimators': 10}, {'max_features': 8, 'n_estimators': 15}, {'max_features': 8, 'n_estimators': 100}, {'max_features': 16, 'n_estimators': 5}, {'max_features': 16, 'n_estimators': 10}, {'max_features': 16, 'n_estimators': 15}, {'max_features': 16, 'n_estimators': 100}, {'max_features': 32, 'n_estimators': 5}, {'max_features': 32, 'n_estimators': 10}]\n",
      "[0.85364496 0.89816361 0.91541458 0.93656093 0.87924318 0.90372844\n",
      " 0.91875348 0.93656093 0.87423484 0.89705064 0.91096272 0.92821369\n",
      " 0.87367835 0.89371174 0.89593767 0.90706733]\n",
      "[5 10 15 100 5 10 15 100 5 10 15 100 5 10 15 100]\n",
      "[8 8 8 8 16 16 16 16 32 32 32 32 64 64 64 64]\n"
     ]
    }
   ],
   "source": [
    "grid_cv.best_estimator_\n",
    "\n",
    "print grid_cv.best_score_\n",
    "print grid_cv.best_params_\n",
    "print grid_cv.cv_results_['params'][:10]\n",
    "print grid_cv.cv_results_['mean_test_score']\n",
    "print grid_cv.cv_results_['param_n_estimators']\n",
    "print grid_cv.cv_results_['param_max_features']"
   ]
  },
  {
   "cell_type": "code",
   "execution_count": 100,
   "metadata": {},
   "outputs": [
    {
     "name": "stdout",
     "output_type": "stream",
     "text": [
      "Populating the interactive namespace from numpy and matplotlib\n"
     ]
    },
    {
     "data": {
      "text/plain": [
       "<matplotlib.legend.Legend at 0x7f7629de8ad0>"
      ]
     },
     "execution_count": 100,
     "metadata": {},
     "output_type": "execute_result"
    },
    {
     "data": {
      "image/png": "[encoded data removed]",
      "text/plain": [
       "<Figure size 432x288 with 1 Axes>"
      ]
     },
     "metadata": {
      "needs_background": "light"
     },
     "output_type": "display_data"
    }
   ],
   "source": [
    "%pylab inline\n",
    "\n",
    "score        = grid_cv.cv_results_['mean_test_score']\n",
    "n_estimators = grid_cv.cv_results_['param_n_estimators'].data\n",
    "max_features = grid_cv.cv_results_['param_max_features']\n",
    "\n",
    "pylab.grid(True)\n",
    "pylab.plot(n_estimators[:4], score[:4], 'g-', marker='o', label='max_features=8')\n",
    "pylab.plot(n_estimators[4:8], score[4:8], 'r-', marker='o', label='max_features=16')\n",
    "pylab.plot(n_estimators[8:12], score[8:12], 'b-', marker='o', label='max_features=32')\n",
    "pylab.plot(n_estimators[12:], score[12:], 's-', marker='o', label='max_features=64')\n",
    "# pylab.ylim((0.0, 1.05))\n",
    "pylab.xlabel('tree count')\n",
    "pylab.ylabel('score')\n",
    "pylab.legend(loc='lower right')"
   ]
  },
  {
   "cell_type": "code",
   "execution_count": 81,
   "metadata": {},
   "outputs": [
    {
     "name": "stdout",
     "output_type": "stream",
     "text": [
      "[0.85364496 0.89816361 0.91541458 0.93656093]\n"
     ]
    },
    {
     "data": {
      "text/plain": [
       "array([5, 10, 15, 100], dtype=object)"
      ]
     },
     "execution_count": 81,
     "metadata": {},
     "output_type": "execute_result"
    }
   ],
   "source": [
    "print score[:4]\n",
    "n_estimators.data[:4]"
   ]
  },
  {
   "cell_type": "code",
   "execution_count": null,
   "metadata": {},
   "outputs": [],
   "source": []
  }
 ],
 "metadata": {
  "kernelspec": {
   "display_name": "Python 2",
   "language": "python",
   "name": "python2"
  },
  "language_info": {
   "codemirror_mode": {
    "name": "ipython",
    "version": 2
   },
   "file_extension": ".py",
   "mimetype": "text/x-python",
   "name": "python",
   "nbconvert_exporter": "python",
   "pygments_lexer": "ipython2",
   "version": "2.7.16"
  }
 },
 "nbformat": 4,
 "nbformat_minor": 2
}
